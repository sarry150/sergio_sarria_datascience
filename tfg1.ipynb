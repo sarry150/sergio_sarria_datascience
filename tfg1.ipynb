{
 "cells": [
  {
   "cell_type": "code",
   "execution_count": null,
   "id": "3abdb0e2",
   "metadata": {},
   "outputs": [],
   "source": [
    "import numpy as np\n",
    "from datetime import datetime\n",
    "import pandas as pd\n",
    "import os"
   ]
  },
  {
   "cell_type": "code",
   "execution_count": null,
   "id": "b34eba0b",
   "metadata": {},
   "outputs": [],
   "source": [
    "#Leemos el csv\n",
    "csv_datos = 'datasetOriginal.csv'\n",
    "df = pd.read_csv(csv_datos, sep=',', names= ['nombre_ensayo','n_formula', 'nombre_formula', 'categoria', 'dosificacion_ml', 'densidad', 'dosificacion_g', 'ph', 'replicado', 'set_manchas', 'mancha', 'nombre_mancha',\n",
    "        'naturaleza', 'soporte', 'detergencia', 'materia_prima_1_cantidad', 'materia_prima_2_cantidad', 'materia_prima_3_cantidad', 'materia_prima_4_cantidad', 'materia_prima_5_cantidad', 'materia_prima_6_cantidad',\n",
    "        'materia_prima_7_cantidad', 'materia_prima_8_cantidad', 'materia_prima_9_cantidad', 'materia_prima_10_cantidad', 'materia_prima_11_cantidad', 'materia_prima_12_cantidad', 'materia_prima_13_cantidad', 'materia_prima_14_cantidad',\n",
    "        'materia_prima_15_cantidad', 'materia_prima_16_cantidad', 'materia_prima_17_cantidad', 'materia_prima_18_cantidad', 'materia_prima_19_cantidad', 'materia_prima_20_cantidad', 'materia_prima_21_cantidad', 'materia_prima_22_cantidad',\n",
    "        'materia_prima_23_cantidad', 'materia_prima_24_cantidad', 'materia_prima_25_cantidad', 'materia_prima_26_cantidad', 'materia_prima_27_cantidad', 'materia_prima_28_cantidad', 'materia_prima_29_cantidad', 'materia_prima_30_cantidad',\n",
    "        'materia_prima_31_cantidad', 'materia_prima_32_cantidad', 'materia_prima_33_cantidad', 'materia_prima_34_cantidad', 'materia_prima_35_cantidad', 'materia_prima_36_cantidad', 'materia_prima_37_cantidad', 'materia_prima_38_cantidad',\n",
    "        'materia_prima_39_cantidad', 'materia_prima_40_cantidad', 'lavadora', 'temperatura', 'ciclos','a','b','c','d'],header=0, low_memory=False)\n",
    "\n",
    "df.head()"
   ]
  },
  {
   "cell_type": "code",
   "execution_count": null,
   "id": "38b4eb11",
   "metadata": {},
   "outputs": [],
   "source": [
    "#Limpiamos las columnas sobrantes del archivo csv\n",
    "\n",
    "df.drop(columns=['a', 'b', 'c', 'd'], inplace=True)\n",
    "df.head()"
   ]
  },
  {
   "cell_type": "code",
   "execution_count": null,
   "id": "b027bbce",
   "metadata": {},
   "outputs": [],
   "source": [
    "#Rellenamos los datos vacios\n",
    "\n",
    "df = df.fillna(0)"
   ]
  },
  {
   "cell_type": "code",
   "execution_count": null,
   "id": "23888fa2",
   "metadata": {},
   "outputs": [],
   "source": [
    "df = round(df.loc[:'detergencia'],2)\n",
    "df['detergencia'].tail()"
   ]
  },
  {
   "cell_type": "code",
   "execution_count": null,
   "id": "0091259a",
   "metadata": {},
   "outputs": [],
   "source": [
    "#Añadimos 10 materias mas\n",
    "\n",
    "for i in range (41, 51):\n",
    "    cadena = 'materia_prima_' + str(i) + '_cantidad'\n",
    "    df.loc[:, cadena] = 0\n",
    "    \n",
    "#Añadimos las correspodientes columnas de cada materia para tener un mejor control de su contenido, contendran un entero...1 = contiene, 0 = no contiene\n",
    "#Para una mayor facilidad de trabajo y de limpieza de los datos se divide en cantidad y contiene\n",
    "\n",
    "for i in range (1, 51):\n",
    "    cadena = 'materia_prima_' + str(i) + '_contiene'\n",
    "    df.loc[:, cadena] = 0\n",
    "\n",
    "df.head()"
   ]
  },
  {
   "cell_type": "code",
   "execution_count": null,
   "id": "b617cd0a",
   "metadata": {},
   "outputs": [],
   "source": [
    "#Nos aseguramos de que los datos de las columnas con la información de cantidad tienen todos el mismo tipo de dato\n",
    "\n",
    "for i in range(1, 51):\n",
    "    cadena = 'materia_prima_' + str(i) + '_cantidad'\n",
    "    df[cadena] = df[cadena].astype('float')\n",
    "    \n",
    "#Comprobamos\n",
    "\n",
    "df['materia_prima_6_cantidad'].dtype"
   ]
  },
  {
   "cell_type": "code",
   "execution_count": null,
   "id": "68e58a61",
   "metadata": {},
   "outputs": [],
   "source": [
    "#Debido a que los datos del dataset original no estan del todo claros se comprueba columna por columna si tiene una cantidad superior a 0\n",
    "#Por otro lado se comprueba tambien si contiene un -1, ya que esto indicaria por un lado que contiene esa materia prima pero que se desconoce su cantidad y por otro una cantidad negativa no tiene sentido\n",
    "#Por lo tanto asi comprobamos si los datos van en concordancia y no se producen errores\n",
    "for i in range(1, 51):\n",
    "    cadena_cantidad = 'materia_prima_' + str(i) + '_cantidad'\n",
    "    cadena_contiene = 'materia_prima_' + str(i) + '_contiene'\n",
    "    df.loc[(df[cadena_cantidad] < 0.0) | (df[cadena_cantidad] > 0.0), cadena_contiene] = 1\n",
    "    df[cadena_cantidad]=df[cadena_cantidad].replace(-1.0, 0)\n",
    "df.head()"
   ]
  },
  {
   "cell_type": "code",
   "execution_count": null,
   "id": "6cdcb1bd",
   "metadata": {},
   "outputs": [],
   "source": [
    "#Añadimos nuevas columnas necesarias para el estudio\n",
    "\n",
    "df.loc[:, 'dosificacion_ml'] = 0\n",
    "df.loc[:, 'densidad'] = 0\n",
    "df.loc[:, 'antecedentes'] = 'None'\n",
    "df.loc[:, 'conclusiones'] = 'None'\n",
    "df.loc[:, 'idp'] = '0'\n",
    "df.loc[:, 'informe'] = '0'\n",
    "df.loc[:, 'instrumento_lectura'] = 'None'\n",
    "df.loc[:, 'analista'] = 'None'\n",
    "df.loc[:, 'dureza_agua'] = 0\n",
    "df.loc[:, 'peticionario'] = 'None'\n",
    "df.loc[:, 'fecha'] = 'None'\n",
    "df.loc[:, 'replicados'] = 0\n",
    "df.loc[:, 'patron'] = 0\n",
    "df.loc[:, 'ensayo_terminado'] = 0"
   ]
  },
  {
   "cell_type": "code",
   "execution_count": null,
   "id": "b84c8950",
   "metadata": {},
   "outputs": [],
   "source": [
    "#Eliminamos las lineas duplicadas\n",
    "\n",
    "df = df.drop_duplicates()"
   ]
  },
  {
   "cell_type": "code",
   "execution_count": null,
   "id": "3d6ff27e",
   "metadata": {},
   "outputs": [],
   "source": [
    "df = df[['nombre_ensayo', 'analista', 'fecha', 'peticionario', 'idp', 'informe', 'temperatura', 'lavadora', 'dureza_agua', 'ciclos', 'instrumento_lectura', 'replicados', 'set_manchas', 'antecedentes', 'conclusiones','ensayo_terminado',\n",
    "        'nombre_formula', 'n_formula', 'categoria', 'dosificacion_ml', 'dosificacion_g', 'densidad', 'ph', 'replicado', 'mancha', 'nombre_mancha', 'naturaleza', 'soporte', 'detergencia', 'patron', 'materia_prima_1_cantidad', 'materia_prima_2_cantidad', \n",
    "        'materia_prima_3_cantidad', 'materia_prima_4_cantidad', 'materia_prima_5_cantidad', 'materia_prima_6_cantidad', 'materia_prima_7_cantidad', 'materia_prima_8_cantidad', 'materia_prima_9_cantidad', 'materia_prima_10_cantidad', 'materia_prima_11_cantidad', \n",
    "        'materia_prima_12_cantidad', 'materia_prima_13_cantidad', 'materia_prima_14_cantidad', 'materia_prima_15_cantidad', 'materia_prima_16_cantidad', 'materia_prima_17_cantidad', 'materia_prima_18_cantidad', 'materia_prima_19_cantidad', \n",
    "        'materia_prima_20_cantidad', 'materia_prima_21_cantidad', 'materia_prima_22_cantidad', 'materia_prima_23_cantidad', 'materia_prima_24_cantidad', 'materia_prima_25_cantidad', 'materia_prima_26_cantidad', 'materia_prima_27_cantidad', 'materia_prima_28_cantidad', 'materia_prima_29_cantidad', 'materia_prima_30_cantidad',\n",
    "        'materia_prima_31_cantidad', 'materia_prima_32_cantidad', 'materia_prima_33_cantidad', 'materia_prima_34_cantidad', 'materia_prima_35_cantidad', 'materia_prima_36_cantidad', 'materia_prima_37_cantidad', 'materia_prima_38_cantidad',\n",
    "        'materia_prima_39_cantidad', 'materia_prima_40_cantidad', 'materia_prima_41_cantidad', 'materia_prima_42_cantidad', 'materia_prima_43_cantidad', 'materia_prima_44_cantidad', 'materia_prima_45_cantidad', 'materia_prima_46_cantidad',\n",
    "        'materia_prima_47_cantidad', 'materia_prima_48_cantidad', 'materia_prima_49_cantidad', 'materia_prima_50_cantidad', 'materia_prima_1_contiene', 'materia_prima_2_contiene', 'materia_prima_3_contiene', 'materia_prima_4_contiene',\n",
    "        'materia_prima_5_contiene', 'materia_prima_6_contiene', 'materia_prima_7_contiene', 'materia_prima_8_contiene', 'materia_prima_9_contiene', 'materia_prima_10_contiene', 'materia_prima_11_contiene', 'materia_prima_12_contiene',\n",
    "        'materia_prima_13_contiene', 'materia_prima_14_contiene', 'materia_prima_15_contiene', 'materia_prima_16_contiene', 'materia_prima_17_contiene', 'materia_prima_18_contiene', 'materia_prima_19_contiene', 'materia_prima_20_contiene',\n",
    "        'materia_prima_21_contiene', 'materia_prima_22_contiene', 'materia_prima_23_contiene', 'materia_prima_24_contiene', 'materia_prima_25_contiene', 'materia_prima_26_contiene', 'materia_prima_27_contiene', 'materia_prima_28_contiene',\n",
    "        'materia_prima_29_contiene', 'materia_prima_30_contiene', 'materia_prima_31_contiene', 'materia_prima_32_contiene', 'materia_prima_33_contiene', 'materia_prima_34_contiene', 'materia_prima_35_contiene', 'materia_prima_36_contiene', \n",
    "        'materia_prima_37_contiene', 'materia_prima_38_contiene', 'materia_prima_39_contiene', 'materia_prima_40_contiene', 'materia_prima_41_contiene', 'materia_prima_42_contiene', 'materia_prima_43_contiene', 'materia_prima_44_contiene',\n",
    "        'materia_prima_45_contiene', 'materia_prima_46_contiene', 'materia_prima_47_contiene', 'materia_prima_48_contiene', 'materia_prima_49_contiene', 'materia_prima_50_contiene']]\n",
    "\n"
   ]
  },
  {
   "cell_type": "code",
   "execution_count": null,
   "id": "066fffab",
   "metadata": {},
   "outputs": [],
   "source": [
    "df.to_csv('dataset_original_limpio.csv')"
   ]
  },
  {
   "cell_type": "code",
   "execution_count": null,
   "id": "6b07f4b4",
   "metadata": {},
   "outputs": [],
   "source": [
    "df.head(30)"
   ]
  }
 ],
 "metadata": {
  "kernelspec": {
   "display_name": "Python 3 (ipykernel)",
   "language": "python",
   "name": "python3"
  },
  "language_info": {
   "codemirror_mode": {
    "name": "ipython",
    "version": 3
   },
   "file_extension": ".py",
   "mimetype": "text/x-python",
   "name": "python",
   "nbconvert_exporter": "python",
   "pygments_lexer": "ipython3",
   "version": "3.9.12"
  }
 },
 "nbformat": 4,
 "nbformat_minor": 5
}
