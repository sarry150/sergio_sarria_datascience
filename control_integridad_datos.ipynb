{
 "cells": [
  {
   "cell_type": "code",
   "execution_count": null,
   "id": "689c90cf",
   "metadata": {},
   "outputs": [],
   "source": [
    "import pandas as pd\n",
    "import os"
   ]
  },
  {
   "cell_type": "code",
   "execution_count": null,
   "id": "79ea34bc",
   "metadata": {},
   "outputs": [],
   "source": [
    "#Leemos el csv\n",
    "\n",
    "csv_datos = 'dataset_mergeados.csv'\n",
    "df = pd.read_csv(csv_datos, sep=',', names= ['nombre_ensayo', 'analista', 'fecha', 'peticionario', 'idp', 'informe', 'temperatura', 'lavadora', 'dureza_agua', 'ciclos', 'instrumento_lectura', 'replicados', 'set_manchas', 'antecedentes', 'conclusiones','ensayo_terminado',\n",
    "        'nombre_formula', 'n_formula', 'categoria', 'dosificacion_ml', 'dosificacion_g', 'densidad', 'ph', 'replicado', 'mancha', 'nombre_mancha', 'naturaleza', 'soporte', 'detergencia', 'patron', 'LAS', 'Jabón', 'AS', 'LESS', 'No Iónico', \n",
    "        'Fosfonato', 'HP20', 'HP66K', 'HP56 GRANULES', 'PVP', 'SRN', 'BO AMS', 'BO CBS', 'Percarbonato', 'TAED', 'Proteasa', 'Amilasa', 'Mananasa', 'Celulasa Carezyme', 'Celulasa Celluclean', 'Pectinasa', 'Lipasa', 'CMC', 'CMI', 'materia_prima_25_cantidad', 'materia_prima_26_cantidad',\n",
    "         'materia_prima_27_cantidad', 'materia_prima_28_cantidad', 'materia_prima_29_cantidad', 'materia_prima_30_cantidad',\n",
    "        'materia_prima_31_cantidad', 'materia_prima_32_cantidad', 'materia_prima_33_cantidad', 'materia_prima_34_cantidad', 'materia_prima_35_cantidad', 'materia_prima_36_cantidad', 'materia_prima_37_cantidad', 'materia_prima_38_cantidad',\n",
    "        'materia_prima_39_cantidad', 'materia_prima_40_cantidad', 'materia_prima_41_cantidad', 'materia_prima_42_cantidad', 'materia_prima_43_cantidad', 'materia_prima_44_cantidad', 'materia_prima_45_cantidad', 'materia_prima_46_cantidad',\n",
    "        'materia_prima_47_cantidad', 'materia_prima_48_cantidad', 'materia_prima_49_cantidad', 'materia_prima_50_cantidad', 'materia_prima_1_contiene', 'materia_prima_2_contiene', 'materia_prima_3_contiene', 'materia_prima_4_contiene',\n",
    "        'materia_prima_5_contiene', 'materia_prima_6_contiene', 'materia_prima_7_contiene', 'materia_prima_8_contiene', 'materia_prima_9_contiene', 'materia_prima_10_contiene', 'materia_prima_11_contiene', 'materia_prima_12_contiene',\n",
    "        'materia_prima_13_contiene', 'materia_prima_14_contiene', 'materia_prima_15_contiene', 'materia_prima_16_contiene', 'materia_prima_17_contiene', 'materia_prima_18_contiene', 'materia_prima_19_contiene', 'materia_prima_20_contiene',\n",
    "        'materia_prima_21_contiene', 'materia_prima_22_contiene', 'materia_prima_23_contiene', 'materia_prima_24_contiene', 'materia_prima_25_contiene', 'materia_prima_26_contiene', 'materia_prima_27_contiene', 'materia_prima_28_contiene',\n",
    "        'materia_prima_29_contiene', 'materia_prima_30_contiene', 'materia_prima_31_contiene', 'materia_prima_32_contiene', 'materia_prima_33_contiene', 'materia_prima_34_contiene', 'materia_prima_35_contiene', 'materia_prima_36_contiene', \n",
    "        'materia_prima_37_contiene', 'materia_prima_38_contiene', 'materia_prima_39_contiene', 'materia_prima_40_contiene', 'materia_prima_41_contiene', 'materia_prima_42_contiene', 'materia_prima_43_contiene', 'materia_prima_44_contiene',\n",
    "        'materia_prima_45_contiene', 'materia_prima_46_contiene', 'materia_prima_47_contiene', 'materia_prima_48_contiene', 'materia_prima_49_contiene', 'materia_prima_50_contiene'],header=0, low_memory=False)\n",
    "\n",
    "df.head()"
   ]
  },
  {
   "cell_type": "code",
   "execution_count": null,
   "id": "8922805c",
   "metadata": {},
   "outputs": [],
   "source": [
    "cabeceras = df.columns.tolist()\n",
    "\n",
    "campos = []\n",
    "materias_contiene = []\n",
    "materias_cantidad = []\n",
    "\n",
    "for i in range(len(cabeceras)):\n",
    "    if i < 30:\n",
    "        campos.append(cabeceras[i])\n",
    "    if (i >= 30 and i < 54) or 'cantidad' in cabeceras[i]:\n",
    "        materias_cantidad.append(cabeceras[i])\n",
    "    if 'contiene' in cabeceras[i]:\n",
    "        materias_contiene.append(cabeceras[i])\n",
    "print(materias_contiene)\n",
    "nueva_linea = pd.DataFrame(columns=cabeceras)"
   ]
  },
  {
   "cell_type": "code",
   "execution_count": null,
   "id": "234645ef",
   "metadata": {},
   "outputs": [],
   "source": [
    "for campo in campos:\n",
    "    dato = None\n",
    "    print('Introduzca ' + campo + ':')\n",
    "    if df[campo].dtype == 'object':\n",
    "        dato = str(input(''))\n",
    "    elif df[campo].dtype == 'float64':\n",
    "        dato = float(input(''))\n",
    "    else:\n",
    "        dato = int(input(''))\n",
    "\n",
    "    nueva_linea.loc[:, campo] = dato\n",
    "\n",
    "for i in range(len(materias_cantidad)):\n",
    "    if 'cantidad' in materias_cantidad[i]:\n",
    "        break\n",
    "    else:\n",
    "        dato = None\n",
    "        cadena = 'materia_prima_' + i + '_contiene'\n",
    "        print('Introduzca la cantidad de ' + campo + ':')\n",
    "        dato = float(input(''))\n",
    "        nueva_linea.loc[:, materias_cantidad[i]] = dato\n",
    "        if dato > 0:\n",
    "            nueva_linea.loc[:, cadena] = 1\n",
    "        else:\n",
    "            nueva_linea.loc[:, cadena] = 0\n",
    "\n",
    "    nueva_linea.fillna(0)\n",
    "\n",
    "    #if os.name == 'posix':\n",
    "    #    os.system ('clear')\n",
    "    #if os.name == 'ce' or os.name == 'nt' or os.name == 'dos':\n",
    "    #    os.system ('cls')\n",
    "    "
   ]
  },
  {
   "cell_type": "code",
   "execution_count": null,
   "id": "d42cb9fa",
   "metadata": {},
   "outputs": [],
   "source": [
    "df = pd.concat(nueva_linea)"
   ]
  }
 ],
 "metadata": {
  "kernelspec": {
   "display_name": "Python 3 (ipykernel)",
   "language": "python",
   "name": "python3"
  },
  "language_info": {
   "codemirror_mode": {
    "name": "ipython",
    "version": 3
   },
   "file_extension": ".py",
   "mimetype": "text/x-python",
   "name": "python",
   "nbconvert_exporter": "python",
   "pygments_lexer": "ipython3",
   "version": "3.9.12"
  }
 },
 "nbformat": 4,
 "nbformat_minor": 5
}
