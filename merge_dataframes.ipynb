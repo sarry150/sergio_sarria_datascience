{
 "cells": [
  {
   "cell_type": "code",
   "execution_count": null,
   "id": "2c9464f0",
   "metadata": {},
   "outputs": [],
   "source": [
    "import numpy as np\n",
    "from datetime import datetime\n",
    "import pandas as pd\n",
    "pd.options.mode.chained_assignment = None\n",
    "import warnings\n",
    "warnings.simplefilter(action='ignore', category=FutureWarning)\n",
    "import os"
   ]
  },
  {
   "cell_type": "code",
   "execution_count": null,
   "id": "22d5bff3",
   "metadata": {},
   "outputs": [],
   "source": [
    "csv_datos = 'dataset_definitivo_parcial.csv'\n",
    "df_definitivo = pd.read_csv(csv_datos, sep=',', names= ['nombre_ensayo', 'nombre_formula', 'fecha', 'dosificacion_ml', 'dosificacion_g', 'densidad', 'idp', 'informe', 'instrumento_lectura', 'analista', 'dureza_agua', 'peticionario', 'replicados', 'patron', 'ensayo_terminado', 'antecedentes', 'conclusiones', 'detergencia', 'mancha', 'ph', 'soporte', 'LAS', 'Jabón', \n",
    "        'AS', 'LESS', 'No Iónico', 'Fosfonato', 'HP20', 'HP66K', 'HP56 GRANULES', 'PVP', 'SRN', \n",
    "        'BO AMS', 'BO CBS', 'Percarbonato', 'TAED', 'Proteasa', 'Amilasa', 'Mananasa', 'Celulasa Carezyme', \n",
    "        'Celulasa Celluclean', 'Pectinasa', 'Lipasa', 'CMC', 'CMI'],header=0, low_memory=False)\n",
    "df_definitivo.head()"
   ]
  },
  {
   "cell_type": "code",
   "execution_count": null,
   "id": "89d50cc1",
   "metadata": {},
   "outputs": [],
   "source": [
    "csv_datos = 'dataset_original_limpio.csv'\n",
    "df_original = pd.read_csv(csv_datos, sep=',', names= ['nombre_ensayo', 'analista', 'fecha', 'peticionario', 'idp', 'informe', 'temperatura', 'lavadora', 'dureza_agua', 'ciclos', 'instrumento_lectura', 'replicados', 'set_manchas', 'antecedentes', 'conclusiones','ensayo_terminado',\n",
    "        'nombre_formula', 'n_formula', 'categoria', 'dosificacion_ml', 'dosificacion_g', 'densidad', 'ph', 'replicado', 'mancha', 'nombre_mancha', 'naturaleza', 'soporte', 'detergencia', 'patron', 'materia_prima_1_cantidad', 'materia_prima_2_cantidad', \n",
    "        'materia_prima_3_cantidad', 'materia_prima_4_cantidad', 'materia_prima_5_cantidad', 'materia_prima_6_cantidad', 'materia_prima_7_cantidad', 'materia_prima_8_cantidad', 'materia_prima_9_cantidad', 'materia_prima_10_cantidad', 'materia_prima_11_cantidad', \n",
    "        'materia_prima_12_cantidad', 'materia_prima_13_cantidad', 'materia_prima_14_cantidad', 'materia_prima_15_cantidad', 'materia_prima_16_cantidad', 'materia_prima_17_cantidad', 'materia_prima_18_cantidad', 'materia_prima_19_cantidad', \n",
    "        'materia_prima_20_cantidad', 'materia_prima_21_cantidad', 'materia_prima_22_cantidad', 'materia_prima_23_cantidad', 'materia_prima_24_cantidad', 'materia_prima_25_cantidad', 'materia_prima_26_cantidad', 'materia_prima_27_cantidad', 'materia_prima_28_cantidad', 'materia_prima_29_cantidad', 'materia_prima_30_cantidad',\n",
    "        'materia_prima_31_cantidad', 'materia_prima_32_cantidad', 'materia_prima_33_cantidad', 'materia_prima_34_cantidad', 'materia_prima_35_cantidad', 'materia_prima_36_cantidad', 'materia_prima_37_cantidad', 'materia_prima_38_cantidad',\n",
    "        'materia_prima_39_cantidad', 'materia_prima_40_cantidad', 'materia_prima_41_cantidad', 'materia_prima_42_cantidad', 'materia_prima_43_cantidad', 'materia_prima_44_cantidad', 'materia_prima_45_cantidad', 'materia_prima_46_cantidad',\n",
    "        'materia_prima_47_cantidad', 'materia_prima_48_cantidad', 'materia_prima_49_cantidad', 'materia_prima_50_cantidad', 'materia_prima_1_contiene', 'materia_prima_2_contiene', 'materia_prima_3_contiene', 'materia_prima_4_contiene',\n",
    "        'materia_prima_5_contiene', 'materia_prima_6_contiene', 'materia_prima_7_contiene', 'materia_prima_8_contiene', 'materia_prima_9_contiene', 'materia_prima_10_contiene', 'materia_prima_11_contiene', 'materia_prima_12_contiene',\n",
    "        'materia_prima_13_contiene', 'materia_prima_14_contiene', 'materia_prima_15_contiene', 'materia_prima_16_contiene', 'materia_prima_17_contiene', 'materia_prima_18_contiene', 'materia_prima_19_contiene', 'materia_prima_20_contiene',\n",
    "        'materia_prima_21_contiene', 'materia_prima_22_contiene', 'materia_prima_23_contiene', 'materia_prima_24_contiene', 'materia_prima_25_contiene', 'materia_prima_26_contiene', 'materia_prima_27_contiene', 'materia_prima_28_contiene',\n",
    "        'materia_prima_29_contiene', 'materia_prima_30_contiene', 'materia_prima_31_contiene', 'materia_prima_32_contiene', 'materia_prima_33_contiene', 'materia_prima_34_contiene', 'materia_prima_35_contiene', 'materia_prima_36_contiene', \n",
    "        'materia_prima_37_contiene', 'materia_prima_38_contiene', 'materia_prima_39_contiene', 'materia_prima_40_contiene', 'materia_prima_41_contiene', 'materia_prima_42_contiene', 'materia_prima_43_contiene', 'materia_prima_44_contiene',\n",
    "        'materia_prima_45_contiene', 'materia_prima_46_contiene', 'materia_prima_47_contiene', 'materia_prima_48_contiene', 'materia_prima_49_contiene', 'materia_prima_50_contiene'],header=0, low_memory=False)\n",
    "\n",
    "df_original.head()"
   ]
  },
  {
   "cell_type": "code",
   "execution_count": null,
   "id": "257d9853",
   "metadata": {},
   "outputs": [],
   "source": [
    "contador = 0\n",
    "df_merge = []\n",
    "for i in range(df_original['nombre_ensayo'].size):\n",
    "    detergencia = df_original.iloc[i, 28]\n",
    "    mancha = df_original.iloc[i,24]\n",
    "    ph = df_original.iloc[i,22]\n",
    "    soporte = df_original.iloc[i,27]\n",
    "\n",
    "    \n",
    "\n",
    "\n",
    "    fila = df_definitivo.loc[(df_definitivo.detergencia == detergencia) & (df_definitivo.soporte == soporte) & (df_definitivo.ph == ph) & (df_definitivo.mancha == mancha)]\n",
    "    if fila.size > 0:\n",
    "        df_original.iloc[i, 0]= fila.iloc[0, 0]\n",
    "        df_original.iloc[i, 16]= fila.iloc[0, 1]\n",
    "        df_original.iloc[i, 2]= fila.iloc[0, 2]\n",
    "        df_original.iloc[i, 19]= fila.iloc[0, 3]\n",
    "        df_original.iloc[i, 20]= fila.iloc[0, 4]\n",
    "        df_original.iloc[i, 21]= fila.iloc[0, 5]\n",
    "        df_original.iloc[i, 4]= fila.iloc[0, 6]\n",
    "        df_original.iloc[i, 5]= fila.iloc[0, 7]\n",
    "        df_original.iloc[i, 10]= fila.iloc[0, 8]\n",
    "        df_original.iloc[i, 1]= fila.iloc[0, 9]\n",
    "        df_original.iloc[i, 8]= fila.iloc[0, 10]\n",
    "        df_original.iloc[i, 3]= fila.iloc[0, 11]\n",
    "        df_original.iloc[i, 11]= fila.iloc[0, 12]\n",
    "        df_original.iloc[i, 29]= fila.iloc[0, 13]\n",
    "        df_original.iloc[i, 15]= fila.iloc[0, 14]\n",
    "        df_original.iloc[i, 13]= fila.iloc[0, 15]\n",
    "        df_original.iloc[i, 14]= fila.iloc[0, 16]\n",
    "\n",
    "        fila_original = df_original.loc[(df_original.detergencia == detergencia) & (df_original.soporte == soporte) & (df_original.ph == ph) & (df_original.mancha == mancha)]\n",
    "        if fila_original.size > 1:\n",
    "            fila_original = fila_original.loc[df_original.fecha != 'None']\n",
    "        df_merge.append(fila_original)\n",
    "        "
   ]
  },
  {
   "cell_type": "code",
   "execution_count": null,
   "id": "170f4aa4",
   "metadata": {},
   "outputs": [],
   "source": [
    "df_merge = pd.concat(df_merge)\n",
    "cabeceras = df_definitivo.columns.tolist()\n",
    "pos = 21\n",
    "\n",
    "for i in range(1, 25):\n",
    "    df_merge = df_merge.rename(columns = {'materia_prima_' + str(i) + '_cantidad' : cabeceras[pos]})\n",
    "    pos += 1"
   ]
  },
  {
   "cell_type": "code",
   "execution_count": null,
   "id": "a7fbb5ab",
   "metadata": {},
   "outputs": [],
   "source": [
    "df_merge.to_csv('dataset_mergeados_cols.csv')"
   ]
  }
 ],
 "metadata": {
  "kernelspec": {
   "display_name": "Python 3 (ipykernel)",
   "language": "python",
   "name": "python3"
  },
  "language_info": {
   "codemirror_mode": {
    "name": "ipython",
    "version": 3
   },
   "file_extension": ".py",
   "mimetype": "text/x-python",
   "name": "python",
   "nbconvert_exporter": "python",
   "pygments_lexer": "ipython3",
   "version": "3.9.12"
  }
 },
 "nbformat": 4,
 "nbformat_minor": 5
}
